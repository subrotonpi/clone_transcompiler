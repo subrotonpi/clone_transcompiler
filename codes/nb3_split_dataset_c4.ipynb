{
 "cells": [
  {
   "cell_type": "code",
   "execution_count": null,
   "metadata": {},
   "outputs": [],
   "source": [
    "dr = '~/PycharmProjects/code-trans-aug/storage/alternative/'\n",
    "\n",
    "d_t = 'c4/'\n",
    "cols = ['id1', 'id2', 'label']\n",
    "import pandas as pd"
   ]
  },
  {
   "cell_type": "code",
   "execution_count": null,
   "metadata": {},
   "outputs": [],
   "source": [
    "def split_dataset(data):\n",
    "    ratios = [8,1,1]\n",
    "\n",
    "    data_num = len(data)\n",
    "    train_split = int(ratios[0] / sum(ratios) * data_num)\n",
    "    val_split = train_split + int(ratios[1] / sum(ratios) * data_num)\n",
    "\n",
    "    data = data.sample(frac=1, random_state=666)\n",
    "    \n",
    "    train_list = data.iloc[:train_split]\n",
    "    valid_list = data.iloc[train_split:val_split]\n",
    "    test_list = data.iloc[val_split:]\n",
    "    \n",
    "    return train_list, valid_list, test_list\n"
   ]
  },
  {
   "cell_type": "code",
   "execution_count": null,
   "metadata": {},
   "outputs": [],
   "source": [
    "original_pairs = pd.read_csv(dr+'clones.csv', names=cols)\n",
    "augmented_pairs = pd.read_csv(dr+'dataset_or_80_20_aug.csv', names=cols)\n",
    "augmented_pairs = augmented_pairs[augmented_pairs.label==1]\n"
   ]
  },
  {
   "cell_type": "code",
   "execution_count": null,
   "metadata": {},
   "outputs": [],
   "source": []
  },
  {
   "cell_type": "code",
   "execution_count": null,
   "metadata": {},
   "outputs": [],
   "source": [
    "train, dev, test = split_dataset(original_pairs)\n",
    "train.to_csv(dr+d_t+'train.csv',header=None, index=False)\n",
    "dev.to_csv(dr+d_t+'dev.csv',header=None, index=False)\n",
    "test.to_csv(dr+d_t+'test.csv',header=None, index=False)"
   ]
  },
  {
   "cell_type": "code",
   "execution_count": null,
   "metadata": {},
   "outputs": [],
   "source": []
  },
  {
   "cell_type": "code",
   "execution_count": null,
   "metadata": {},
   "outputs": [],
   "source": [
    "train_aug, dev_aug, test_aug = split_dataset(augmented_pairs)\n",
    "train_aug.to_csv(dr+d_t+'train_aug.csv',header=None, index=False)\n",
    "dev_aug.to_csv(dr+d_t+'dev_aug.csv',header=None, index=False)\n",
    "test_aug.to_csv(dr+d_t+'test_aug.csv',header=None, index=False)"
   ]
  },
  {
   "cell_type": "code",
   "execution_count": null,
   "metadata": {},
   "outputs": [],
   "source": [
    "original_pairs.shape"
   ]
  },
  {
   "cell_type": "code",
   "execution_count": null,
   "metadata": {},
   "outputs": [],
   "source": [
    "augmented_pairs.shape"
   ]
  },
  {
   "cell_type": "code",
   "execution_count": null,
   "metadata": {},
   "outputs": [],
   "source": []
  }
 ],
 "metadata": {
  "kernelspec": {
   "display_name": "Python 3",
   "language": "python",
   "name": "python3"
  },
  "language_info": {
   "codemirror_mode": {
    "name": "ipython",
    "version": 3
   },
   "file_extension": ".py",
   "mimetype": "text/x-python",
   "name": "python",
   "nbconvert_exporter": "python",
   "pygments_lexer": "ipython3",
   "version": "3.10.8 (main, Oct 13 2022, 10:17:43) [Clang 14.0.0 (clang-1400.0.29.102)]"
  },
  "orig_nbformat": 4,
  "vscode": {
   "interpreter": {
    "hash": "aee8b7b246df8f9039afb4144a1f6fd8d2ca17a180786b69acc140d282b71a49"
   }
  }
 },
 "nbformat": 4,
 "nbformat_minor": 2
}
